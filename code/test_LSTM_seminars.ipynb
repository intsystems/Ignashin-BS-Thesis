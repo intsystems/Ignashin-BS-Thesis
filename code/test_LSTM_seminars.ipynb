{
 "cells": [
  {
   "cell_type": "code",
   "execution_count": 1,
   "metadata": {},
   "outputs": [],
   "source": [
    "%load_ext autoreload\n",
    "%autoreload 2"
   ]
  },
  {
   "cell_type": "code",
   "execution_count": 2,
   "metadata": {},
   "outputs": [
    {
     "name": "stdout",
     "output_type": "stream",
     "text": [
      "/home/igoreshka/Desktop/DIPLOM/Ignashin-BS-Thesis/code\n"
     ]
    }
   ],
   "source": [
    "%cd .."
   ]
  },
  {
   "cell_type": "code",
   "execution_count": 2,
   "metadata": {},
   "outputs": [],
   "source": [
    "\n",
    "import math\n",
    "import time\n",
    "from tqdm import tqdm\n",
    "\n",
    "\n",
    "\n",
    "import torch\n",
    "import numpy as np\n",
    "import torch.nn as nn\n",
    "from torch import Tensor\n",
    "\n",
    "from torch.utils.data import DataLoader\n",
    "from torch.nn import (TransformerEncoder, TransformerDecoder,\n",
    "                      TransformerEncoderLayer, TransformerDecoderLayer)\n",
    "\n",
    "from src.prepare_data import download_data, build_train_vocab, get_train_test_val, check_tokens,tokens_to_sentence , generate_batch , visualize_iter_data , get_embed\n",
    "from src.LSTM import RNNdecoder, RNNencoder,Seq2SeqRNN\n",
    "from src.train import create_mask,generate_square_subsequent_mask, train_epoch, bleu_calculate , evaluate\n",
    "from src.transformer import Seq2SeqTransformer,PositionalEncoding,TokenEmbedding\n"
   ]
  },
  {
   "cell_type": "code",
   "execution_count": null,
   "metadata": {},
   "outputs": [],
   "source": [
    "# from transformers import AutoModel, AutoTokenizer"
   ]
  },
  {
   "cell_type": "code",
   "execution_count": null,
   "metadata": {},
   "outputs": [],
   "source": [
    "from src.LSTM_seminars import seq2seq\n",
    "from src.train_seminars import trainer"
   ]
  },
  {
   "cell_type": "code",
   "execution_count": 6,
   "metadata": {},
   "outputs": [
    {
     "name": "stdout",
     "output_type": "stream",
     "text": [
      "De vocab En vocab:  19215 10838\n",
      "Train Test Val:  29000 1014 1000\n"
     ]
    }
   ],
   "source": [
    "train_filepaths , val_filepaths , test_filepaths = download_data()\n",
    "de_vocab, en_vocab, de_tokenizer, en_tokenizer = build_train_vocab(train_filepaths)\n",
    "print( 'De vocab En vocab: ',len(de_vocab), len(en_vocab))\n",
    "train_data , val_data , test_data = get_train_test_val(train_filepaths, test_filepaths, val_filepaths , de_vocab , en_vocab ,de_tokenizer,en_tokenizer )\n",
    "print('Train Test Val: ',len(train_data),len(test_data) , len(val_data))"
   ]
  },
  {
   "cell_type": "code",
   "execution_count": 7,
   "metadata": {},
   "outputs": [
    {
     "name": "stdout",
     "output_type": "stream",
     "text": [
      "1 2 3\n"
     ]
    }
   ],
   "source": [
    "BATCH_SIZE = 128\n",
    "PAD_IDX = de_vocab['<pad>']\n",
    "BOS_IDX = de_vocab['<bos>']\n",
    "EOS_IDX = de_vocab['<eos>']\n",
    "print(PAD_IDX , BOS_IDX , EOS_IDX)"
   ]
  },
  {
   "cell_type": "code",
   "execution_count": 8,
   "metadata": {},
   "outputs": [],
   "source": [
    "train_iter = DataLoader(train_data, batch_size=BATCH_SIZE,\n",
    "                        shuffle=True, collate_fn= lambda x : generate_batch(x , BOS_IDX=BOS_IDX,PAD_IDX=PAD_IDX,EOS_IDX=EOS_IDX))\n",
    "valid_iter = DataLoader(val_data, batch_size=1,\n",
    "                        shuffle=True, collate_fn= lambda x : generate_batch(x , BOS_IDX=BOS_IDX,PAD_IDX=PAD_IDX,EOS_IDX=EOS_IDX))\n",
    "test_iter = DataLoader(test_data, batch_size=BATCH_SIZE,\n",
    "                       shuffle=True, collate_fn= lambda x : generate_batch(x , BOS_IDX=BOS_IDX,PAD_IDX=PAD_IDX,EOS_IDX=EOS_IDX))"
   ]
  },
  {
   "cell_type": "code",
   "execution_count": null,
   "metadata": {},
   "outputs": [],
   "source": []
  },
  {
   "cell_type": "code",
   "execution_count": 9,
   "metadata": {},
   "outputs": [
    {
     "data": {
      "text/plain": [
       "'cpu'"
      ]
     },
     "execution_count": 9,
     "metadata": {},
     "output_type": "execute_result"
    }
   ],
   "source": [
    "DEVICE = 'cuda' if torch.cuda.is_available() else 'cpu'\n",
    "DEVICE"
   ]
  },
  {
   "cell_type": "code",
   "execution_count": 10,
   "metadata": {},
   "outputs": [],
   "source": [
    "SRC_VOCAB_SIZE = len(de_vocab)\n",
    "TGT_VOCAB_SIZE = len(en_vocab)"
   ]
  },
  {
   "cell_type": "code",
   "execution_count": 11,
   "metadata": {},
   "outputs": [
    {
     "data": {
      "text/plain": [
       "seq2seq(\n",
       "  (encoder): Encoder(\n",
       "    (embedding): Embedding(19215, 30)\n",
       "    (lstm): LSTM(30, 30, batch_first=True)\n",
       "  )\n",
       "  (decoder): Decoder(\n",
       "    (embedding): Embedding(19215, 30)\n",
       "    (attention): MultiheadAttention(\n",
       "      (out_proj): NonDynamicallyQuantizableLinear(in_features=30, out_features=30, bias=True)\n",
       "    )\n",
       "    (lstm): LSTM(30, 30, batch_first=True)\n",
       "    (linear): Linear(in_features=30, out_features=19215, bias=True)\n",
       "  )\n",
       ")"
      ]
     },
     "execution_count": 11,
     "metadata": {},
     "output_type": "execute_result"
    }
   ],
   "source": [
    "model = seq2seq(SRC_VOCAB_SIZE)\n",
    "model.to(DEVICE)"
   ]
  },
  {
   "cell_type": "code",
   "execution_count": 12,
   "metadata": {},
   "outputs": [],
   "source": [
    "# x_batch = torch.randint(size= (128,30),low= 0,high = 25)\n",
    "# y_batch = torch.randint(size= (128,32),low= 0,high = 25)\n",
    "# model(x_batch , y_batch).shape"
   ]
  },
  {
   "cell_type": "code",
   "execution_count": null,
   "metadata": {},
   "outputs": [],
   "source": []
  },
  {
   "cell_type": "code",
   "execution_count": 13,
   "metadata": {},
   "outputs": [],
   "source": [
    "loss_function = torch.nn.CrossEntropyLoss(ignore_index=PAD_IDX)\n",
    "optimizer = torch.optim.Adam\n"
   ]
  },
  {
   "cell_type": "code",
   "execution_count": 14,
   "metadata": {},
   "outputs": [],
   "source": [
    "# de_train_dataset = []\n",
    "# en_train_dataset = []\n",
    "# for j in train_data :\n",
    "#     de_train_dataset.append(j[0].tolist())\n",
    "#     en_train_dataset.append(j[1].tolist())\n",
    "# de_train_dataset = np.array(de_train_dataset, dtype=object)\n",
    "# en_train_dataset = np.array(en_train_dataset, dtype=object)"
   ]
  },
  {
   "cell_type": "code",
   "execution_count": 20,
   "metadata": {},
   "outputs": [],
   "source": [
    "from torch.nn.utils.rnn import pad_sequence"
   ]
  },
  {
   "cell_type": "code",
   "execution_count": 15,
   "metadata": {},
   "outputs": [],
   "source": [
    "train_dataloader = torch.utils.data.DataLoader(dataset=train_data, \n",
    "shuffle=True, pin_memory=True, batch_size=BATCH_SIZE,collate_fn= lambda x : generate_batch(x , BOS_IDX=BOS_IDX,PAD_IDX=PAD_IDX,EOS_IDX=EOS_IDX))"
   ]
  },
  {
   "cell_type": "code",
   "execution_count": 33,
   "metadata": {},
   "outputs": [
    {
     "ename": "AttributeError",
     "evalue": "partially initialized module 'torch._dynamo' has no attribute 'external_utils' (most likely due to a circular import)",
     "output_type": "error",
     "traceback": [
      "\u001b[0;31m---------------------------------------------------------------------------\u001b[0m",
      "\u001b[0;31mAttributeError\u001b[0m                            Traceback (most recent call last)",
      "Cell \u001b[0;32mIn[33], line 1\u001b[0m\n\u001b[0;32m----> 1\u001b[0m optimizer(model\u001b[39m.\u001b[39;49mparameters(), lr\u001b[39m=\u001b[39;49m\u001b[39m0.001\u001b[39;49m)\n",
      "File \u001b[0;32m~/miniconda3/lib/python3.10/site-packages/torch/optim/adam.py:45\u001b[0m, in \u001b[0;36mAdam.__init__\u001b[0;34m(self, params, lr, betas, eps, weight_decay, amsgrad, foreach, maximize, capturable, differentiable, fused)\u001b[0m\n\u001b[1;32m     39\u001b[0m     \u001b[39mraise\u001b[39;00m \u001b[39mValueError\u001b[39;00m(\u001b[39mf\u001b[39m\u001b[39m\"\u001b[39m\u001b[39mInvalid weight_decay value: \u001b[39m\u001b[39m{\u001b[39;00mweight_decay\u001b[39m}\u001b[39;00m\u001b[39m\"\u001b[39m)\n\u001b[1;32m     41\u001b[0m defaults \u001b[39m=\u001b[39m \u001b[39mdict\u001b[39m(lr\u001b[39m=\u001b[39mlr, betas\u001b[39m=\u001b[39mbetas, eps\u001b[39m=\u001b[39meps,\n\u001b[1;32m     42\u001b[0m                 weight_decay\u001b[39m=\u001b[39mweight_decay, amsgrad\u001b[39m=\u001b[39mamsgrad,\n\u001b[1;32m     43\u001b[0m                 maximize\u001b[39m=\u001b[39mmaximize, foreach\u001b[39m=\u001b[39mforeach, capturable\u001b[39m=\u001b[39mcapturable,\n\u001b[1;32m     44\u001b[0m                 differentiable\u001b[39m=\u001b[39mdifferentiable, fused\u001b[39m=\u001b[39mfused)\n\u001b[0;32m---> 45\u001b[0m \u001b[39msuper\u001b[39;49m()\u001b[39m.\u001b[39;49m\u001b[39m__init__\u001b[39;49m(params, defaults)\n\u001b[1;32m     47\u001b[0m \u001b[39mif\u001b[39;00m fused:\n\u001b[1;32m     48\u001b[0m     \u001b[39mif\u001b[39;00m differentiable:\n",
      "File \u001b[0;32m~/miniconda3/lib/python3.10/site-packages/torch/optim/optimizer.py:278\u001b[0m, in \u001b[0;36mOptimizer.__init__\u001b[0;34m(self, params, defaults)\u001b[0m\n\u001b[1;32m    275\u001b[0m     param_groups \u001b[39m=\u001b[39m [{\u001b[39m'\u001b[39m\u001b[39mparams\u001b[39m\u001b[39m'\u001b[39m: param_groups}]\n\u001b[1;32m    277\u001b[0m \u001b[39mfor\u001b[39;00m param_group \u001b[39min\u001b[39;00m param_groups:\n\u001b[0;32m--> 278\u001b[0m     \u001b[39mself\u001b[39;49m\u001b[39m.\u001b[39;49madd_param_group(cast(\u001b[39mdict\u001b[39;49m, param_group))\n\u001b[1;32m    280\u001b[0m \u001b[39m# Allows _cuda_graph_capture_health_check to rig a poor man's TORCH_WARN_ONCE in python,\u001b[39;00m\n\u001b[1;32m    281\u001b[0m \u001b[39m# which I don't think exists\u001b[39;00m\n\u001b[1;32m    282\u001b[0m \u001b[39m# https://github.com/pytorch/pytorch/issues/72948\u001b[39;00m\n\u001b[1;32m    283\u001b[0m \u001b[39mself\u001b[39m\u001b[39m.\u001b[39m_warned_capturable_if_run_uncaptured \u001b[39m=\u001b[39m \u001b[39mTrue\u001b[39;00m\n",
      "File \u001b[0;32m~/miniconda3/lib/python3.10/site-packages/torch/_compile.py:22\u001b[0m, in \u001b[0;36m_disable_dynamo.<locals>.inner\u001b[0;34m(*args, **kwargs)\u001b[0m\n\u001b[1;32m     20\u001b[0m \u001b[39m@functools\u001b[39m\u001b[39m.\u001b[39mwraps(fn)\n\u001b[1;32m     21\u001b[0m \u001b[39mdef\u001b[39;00m \u001b[39minner\u001b[39m(\u001b[39m*\u001b[39margs, \u001b[39m*\u001b[39m\u001b[39m*\u001b[39mkwargs):\n\u001b[0;32m---> 22\u001b[0m     \u001b[39mimport\u001b[39;00m \u001b[39mtorch\u001b[39;00m\u001b[39m.\u001b[39;00m\u001b[39m_dynamo\u001b[39;00m\n\u001b[1;32m     24\u001b[0m     \u001b[39mreturn\u001b[39;00m torch\u001b[39m.\u001b[39m_dynamo\u001b[39m.\u001b[39mdisable(fn, recursive)(\u001b[39m*\u001b[39margs, \u001b[39m*\u001b[39m\u001b[39m*\u001b[39mkwargs)\n",
      "File \u001b[0;32m~/miniconda3/lib/python3.10/site-packages/torch/_dynamo/__init__.py:2\u001b[0m\n\u001b[1;32m      1\u001b[0m \u001b[39mimport\u001b[39;00m \u001b[39mtorch\u001b[39;00m\n\u001b[0;32m----> 2\u001b[0m \u001b[39mfrom\u001b[39;00m \u001b[39m.\u001b[39;00m \u001b[39mimport\u001b[39;00m allowed_functions, convert_frame, eval_frame, resume_execution\n\u001b[1;32m      3\u001b[0m \u001b[39mfrom\u001b[39;00m \u001b[39m.\u001b[39;00m\u001b[39mbackends\u001b[39;00m\u001b[39m.\u001b[39;00m\u001b[39mregistry\u001b[39;00m \u001b[39mimport\u001b[39;00m list_backends, lookup_backend, register_backend\n\u001b[1;32m      4\u001b[0m \u001b[39mfrom\u001b[39;00m \u001b[39m.\u001b[39;00m\u001b[39mcode_context\u001b[39;00m \u001b[39mimport\u001b[39;00m code_context\n",
      "File \u001b[0;32m~/miniconda3/lib/python3.10/site-packages/torch/_dynamo/convert_frame.py:62\u001b[0m\n\u001b[1;32m     56\u001b[0m \u001b[39mfrom\u001b[39;00m \u001b[39m.\u001b[39;00m\u001b[39mguards\u001b[39;00m \u001b[39mimport\u001b[39;00m (\n\u001b[1;32m     57\u001b[0m     CheckFunctionManager,\n\u001b[1;32m     58\u001b[0m     get_and_maybe_log_recompilation_reason,\n\u001b[1;32m     59\u001b[0m     GuardedCode,\n\u001b[1;32m     60\u001b[0m )\n\u001b[1;32m     61\u001b[0m \u001b[39mfrom\u001b[39;00m \u001b[39m.\u001b[39;00m\u001b[39mhooks\u001b[39;00m \u001b[39mimport\u001b[39;00m Hooks\n\u001b[0;32m---> 62\u001b[0m \u001b[39mfrom\u001b[39;00m \u001b[39m.\u001b[39;00m\u001b[39moutput_graph\u001b[39;00m \u001b[39mimport\u001b[39;00m OutputGraph\n\u001b[1;32m     63\u001b[0m \u001b[39mfrom\u001b[39;00m \u001b[39m.\u001b[39;00m\u001b[39mreplay_record\u001b[39;00m \u001b[39mimport\u001b[39;00m ExecutionRecord\n\u001b[1;32m     64\u001b[0m \u001b[39mfrom\u001b[39;00m \u001b[39m.\u001b[39;00m\u001b[39msymbolic_convert\u001b[39;00m \u001b[39mimport\u001b[39;00m InstructionTranslator, SpeculationLog\n",
      "File \u001b[0;32m~/miniconda3/lib/python3.10/site-packages/torch/_dynamo/output_graph.py:39\u001b[0m\n\u001b[1;32m     36\u001b[0m \u001b[39mfrom\u001b[39;00m \u001b[39mtorch\u001b[39;00m\u001b[39m.\u001b[39;00m\u001b[39mutils\u001b[39;00m\u001b[39m.\u001b[39;00m\u001b[39m_sympy\u001b[39;00m\u001b[39m.\u001b[39;00m\u001b[39mreference\u001b[39;00m \u001b[39mimport\u001b[39;00m PythonReferenceAnalysis\n\u001b[1;32m     37\u001b[0m \u001b[39mfrom\u001b[39;00m \u001b[39mtorch\u001b[39;00m\u001b[39m.\u001b[39;00m\u001b[39mutils\u001b[39;00m\u001b[39m.\u001b[39;00m\u001b[39mweak\u001b[39;00m \u001b[39mimport\u001b[39;00m WeakTensorKeyDictionary\n\u001b[0;32m---> 39\u001b[0m \u001b[39mfrom\u001b[39;00m \u001b[39m.\u001b[39;00m \u001b[39mimport\u001b[39;00m config, logging \u001b[39mas\u001b[39;00m torchdynamo_logging, variables\n\u001b[1;32m     40\u001b[0m \u001b[39mfrom\u001b[39;00m \u001b[39m.\u001b[39;00m\u001b[39mbackends\u001b[39;00m\u001b[39m.\u001b[39;00m\u001b[39mregistry\u001b[39;00m \u001b[39mimport\u001b[39;00m CompiledFn, CompilerFn\n\u001b[1;32m     41\u001b[0m \u001b[39mfrom\u001b[39;00m \u001b[39m.\u001b[39;00m\u001b[39mbytecode_transformation\u001b[39;00m \u001b[39mimport\u001b[39;00m (\n\u001b[1;32m     42\u001b[0m     create_call_function,\n\u001b[1;32m     43\u001b[0m     create_instruction,\n\u001b[1;32m     44\u001b[0m     Instruction,\n\u001b[1;32m     45\u001b[0m     unique_id,\n\u001b[1;32m     46\u001b[0m )\n",
      "File \u001b[0;32m~/miniconda3/lib/python3.10/site-packages/torch/_dynamo/variables/__init__.py:68\u001b[0m\n\u001b[1;32m     60\u001b[0m \u001b[39mfrom\u001b[39;00m \u001b[39m.\u001b[39;00m\u001b[39mnn_module\u001b[39;00m \u001b[39mimport\u001b[39;00m NNModuleVariable, UnspecializedNNModuleVariable\n\u001b[1;32m     61\u001b[0m \u001b[39mfrom\u001b[39;00m \u001b[39m.\u001b[39;00m\u001b[39mtensor\u001b[39;00m \u001b[39mimport\u001b[39;00m (\n\u001b[1;32m     62\u001b[0m     FakeItemVariable,\n\u001b[1;32m     63\u001b[0m     NumpyNdarrayVariable,\n\u001b[0;32m   (...)\u001b[0m\n\u001b[1;32m     66\u001b[0m     UnspecializedPythonVariable,\n\u001b[1;32m     67\u001b[0m )\n\u001b[0;32m---> 68\u001b[0m \u001b[39mfrom\u001b[39;00m \u001b[39m.\u001b[39;00m\u001b[39mtorch\u001b[39;00m \u001b[39mimport\u001b[39;00m (\n\u001b[1;32m     69\u001b[0m     TorchCtxManagerClassVariable,\n\u001b[1;32m     70\u001b[0m     TorchInGraphFunctionVariable,\n\u001b[1;32m     71\u001b[0m     TorchVariable,\n\u001b[1;32m     72\u001b[0m )\n\u001b[1;32m     73\u001b[0m \u001b[39mfrom\u001b[39;00m \u001b[39m.\u001b[39;00m\u001b[39muser_defined\u001b[39;00m \u001b[39mimport\u001b[39;00m UserDefinedClassVariable, UserDefinedObjectVariable\n\u001b[1;32m     75\u001b[0m __all__ \u001b[39m=\u001b[39m [\n\u001b[1;32m     76\u001b[0m     \u001b[39m\"\u001b[39m\u001b[39mAutogradFunctionContextVariable\u001b[39m\u001b[39m\"\u001b[39m,\n\u001b[1;32m     77\u001b[0m     \u001b[39m\"\u001b[39m\u001b[39mAutogradFunctionVariable\u001b[39m\u001b[39m\"\u001b[39m,\n\u001b[0;32m   (...)\u001b[0m\n\u001b[1;32m    128\u001b[0m     \u001b[39m\"\u001b[39m\u001b[39mWithExitFunctionVariable\u001b[39m\u001b[39m\"\u001b[39m,\n\u001b[1;32m    129\u001b[0m ]\n",
      "File \u001b[0;32m~/miniconda3/lib/python3.10/site-packages/torch/_dynamo/variables/torch.py:95\u001b[0m\n\u001b[1;32m     79\u001b[0m \u001b[39mif\u001b[39;00m torch\u001b[39m.\u001b[39mdistributed\u001b[39m.\u001b[39mis_available():\n\u001b[1;32m     80\u001b[0m     constant_fold_functions\u001b[39m.\u001b[39mextend(\n\u001b[1;32m     81\u001b[0m         [\n\u001b[1;32m     82\u001b[0m             torch\u001b[39m.\u001b[39mdistributed\u001b[39m.\u001b[39mis_initialized,\n\u001b[0;32m   (...)\u001b[0m\n\u001b[1;32m     85\u001b[0m         ]\n\u001b[1;32m     86\u001b[0m     )\n\u001b[1;32m     89\u001b[0m tracing_state_functions \u001b[39m=\u001b[39m {\n\u001b[1;32m     90\u001b[0m     torch\u001b[39m.\u001b[39mjit\u001b[39m.\u001b[39mis_scripting: \u001b[39mFalse\u001b[39;00m,\n\u001b[1;32m     91\u001b[0m     torch\u001b[39m.\u001b[39mjit\u001b[39m.\u001b[39mis_tracing: \u001b[39mFalse\u001b[39;00m,\n\u001b[1;32m     92\u001b[0m     torch\u001b[39m.\u001b[39m_C\u001b[39m.\u001b[39m_get_tracing_state: \u001b[39mNone\u001b[39;00m,\n\u001b[1;32m     93\u001b[0m     torch\u001b[39m.\u001b[39mfx\u001b[39m.\u001b[39m_symbolic_trace\u001b[39m.\u001b[39mis_fx_tracing: \u001b[39mFalse\u001b[39;00m,\n\u001b[1;32m     94\u001b[0m     torch\u001b[39m.\u001b[39monnx\u001b[39m.\u001b[39mis_in_onnx_export: \u001b[39mFalse\u001b[39;00m,\n\u001b[0;32m---> 95\u001b[0m     torch\u001b[39m.\u001b[39;49m_dynamo\u001b[39m.\u001b[39;49mexternal_utils\u001b[39m.\u001b[39mis_compiling: \u001b[39mTrue\u001b[39;00m,\n\u001b[1;32m     96\u001b[0m     torch\u001b[39m.\u001b[39m_utils\u001b[39m.\u001b[39mis_compiling: \u001b[39mTrue\u001b[39;00m,\n\u001b[1;32m     97\u001b[0m }\n\u001b[1;32m    100\u001b[0m \u001b[39mclass\u001b[39;00m \u001b[39mBaseTorchVariable\u001b[39;00m(VariableTracker):\n\u001b[1;32m    101\u001b[0m \u001b[39m    \u001b[39m\u001b[39m\"\"\"common base for all torch.* functions, classes, modules and other things\"\"\"\u001b[39;00m\n",
      "\u001b[0;31mAttributeError\u001b[0m: partially initialized module 'torch._dynamo' has no attribute 'external_utils' (most likely due to a circular import)"
     ]
    }
   ],
   "source": [
    "optimizer(model.parameters(), lr=0.001)"
   ]
  },
  {
   "cell_type": "code",
   "execution_count": 22,
   "metadata": {},
   "outputs": [
    {
     "name": "stdout",
     "output_type": "stream",
     "text": [
      "tensor([[   2,    2,    2,  ...,    2,    2,    2],\n",
      "        [ 408,   71,   24,  ...,  324, 2420,    4],\n",
      "        [ 107, 1261,   31,  ...,  171, 1224,  127],\n",
      "        ...,\n",
      "        [   1,    1,    1,  ...,    1,    1,    1],\n",
      "        [   1,    1,    1,  ...,    1,    1,    1],\n",
      "        [   1,    1,    1,  ...,    1,    1,    1]]) tensor([[   2,    2,    2,  ...,    2,    2,    2],\n",
      "        [ 397,   26,   26,  ...,  171, 2072,    4],\n",
      "        [ 102,  543,   33,  ...,   27,    9, 4146],\n",
      "        ...,\n",
      "        [   1,    1,    1,  ...,    1,    1,    1],\n",
      "        [   1,    1,    1,  ...,    1,    1,    1],\n",
      "        [   1,    1,    1,  ...,    1,    1,    1]])\n",
      "tensor([[    2,     2,     2,  ...,     2,     2,     2],\n",
      "        [   24,    24,    24,  ...,    24,    24,    71],\n",
      "        [  251, 12201,    31,  ...,  6404,   123,    72],\n",
      "        ...,\n",
      "        [    1,     1,     1,  ...,     1,     1,     1],\n",
      "        [    1,     1,     1,  ...,     1,     1,     1],\n",
      "        [    1,     1,     1,  ...,     1,     1,     1]]) tensor([[   2,    2,    2,  ...,    2,    2,    2],\n",
      "        [  26,   26,   26,  ...,  512,   26,   26],\n",
      "        [ 247,  120,   33,  ..., 1449,  120,   65],\n",
      "        ...,\n",
      "        [   1,    1,    1,  ...,    1,    1,    1],\n",
      "        [   1,    1,    1,  ...,    1,    1,    1],\n",
      "        [   1,    1,    1,  ...,    1,    1,    1]])\n",
      "tensor([[    2,     2,     2,  ...,     2,     2,     2],\n",
      "        [   71,    24,    24,  ...,    24,    71,    71],\n",
      "        [   72,   476,  5434,  ...,  5583,    72, 11891],\n",
      "        ...,\n",
      "        [    1,     1,     1,  ...,     1,     1,     1],\n",
      "        [    1,     1,     1,  ...,     1,     1,     1],\n",
      "        [    1,     1,     1,  ...,     1,     1,     1]]) tensor([[   2,    2,    2,  ...,    2,    2,    2],\n",
      "        [  26,   26,   26,  ...,   26, 1245,   26],\n",
      "        [  65,  713, 4152,  ...,  380,   65,  416],\n",
      "        ...,\n",
      "        [   1,    1,    1,  ...,    1,    1,    1],\n",
      "        [   1,    1,    1,  ...,    1,    1,    1],\n",
      "        [   1,    1,    1,  ...,    1,    1,    1]])\n",
      "tensor([[    2,     2,     2,  ...,     2,     2,     2],\n",
      "        [   18,   515,    18,  ...,    24,   127,    24],\n",
      "        [  239,    11,  8985,  ...,   250,   585, 17523],\n",
      "        ...,\n",
      "        [    1,     1,     1,  ...,     1,     1,     1],\n",
      "        [    1,     1,     1,  ...,     1,     1,     1],\n",
      "        [    1,     1,     1,  ...,     1,     1,     1]]) tensor([[   2,    2,    2,  ...,    2,    2,    2],\n",
      "        [  16,  236, 5751,  ...,   26, 8048,   26],\n",
      "        [ 124,   18,  312,  ...,   27,   58,  910],\n",
      "        ...,\n",
      "        [   1,    1,    1,  ...,    1,    1,    1],\n",
      "        [   1,    1,    1,  ...,    1,    1,    1],\n",
      "        [   1,    1,    1,  ...,    1,    1,    1]])\n",
      "tensor([[   2,    2,    2,  ...,    2,    2,    2],\n",
      "        [  24,   71,   24,  ...,  316,   24,  151],\n",
      "        [ 250, 1542, 3027,  ...,  127,   31,  401],\n",
      "        ...,\n",
      "        [   1,    1,    1,  ...,    1,    1,    1],\n",
      "        [   1,    1,    1,  ...,    1,    1,    1],\n",
      "        [   1,    1,    1,  ...,    1,    1,    1]]) tensor([[   2,    2,    2,  ...,    2,    2,    2],\n",
      "        [  26,  512,   26,  ...,  316,   26, 1562],\n",
      "        [   5,  553,  917,  ...,  124,   33,    9],\n",
      "        ...,\n",
      "        [   1,    1,    1,  ...,    1,    1,    1],\n",
      "        [   1,    1,    1,  ...,    1,    1,    1],\n",
      "        [   1,    1,    1,  ...,    1,    1,    1]])\n",
      "tensor([[  2,   2,   2,  ...,   2,   2,   2],\n",
      "        [ 24,  24,  71,  ..., 408,  24,  71],\n",
      "        [ 31, 172,  72,  ...,   7,  19, 799],\n",
      "        ...,\n",
      "        [  1,   1,   1,  ...,   1,   1,   1],\n",
      "        [  1,   1,   1,  ...,   1,   1,   1],\n",
      "        [  1,   1,   1,  ...,   1,   1,   1]]) tensor([[   2,    2,    2,  ...,    2,    2,    2],\n",
      "        [  26,   26,   26,  ...,  397,   26,  512],\n",
      "        [  33,  172,   65,  ...,   17, 2486,  513],\n",
      "        ...,\n",
      "        [   1,    1,    1,  ...,    1,    1,    1],\n",
      "        [   1,    1,    1,  ...,    1,    1,    1],\n",
      "        [   1,    1,    1,  ...,    1,    1,    1]])\n",
      "tensor([[   2,    2,    2,  ...,    2,    2,    2],\n",
      "        [   4,   71,   18,  ...,  846,   24,    4],\n",
      "        [  78,  160,  127,  ..., 1009,   31,    7],\n",
      "        ...,\n",
      "        [   1,    1,    1,  ...,    1,    1,    1],\n",
      "        [   1,    1,    1,  ...,    1,    1,    1],\n",
      "        [   1,    1,    1,  ...,    1,    1,    1]]) tensor([[  2,   2,   2,  ...,   2,   2,   2],\n",
      "        [  4,  26,  26,  ..., 171,  26,   4],\n",
      "        [ 27, 162, 256,  ..., 935,  33,  17],\n",
      "        ...,\n",
      "        [  1,   1,   1,  ...,   1,   1,   1],\n",
      "        [  1,   1,   1,  ...,   1,   1,   1],\n",
      "        [  1,   1,   1,  ...,   1,   1,   1]])\n",
      "tensor([[   2,    2,    2,  ...,    2,    2,    2],\n",
      "        [   4,  515,   24,  ..., 2988,   24,    4],\n",
      "        [ 609,   42,   31,  ..., 2989,   25,    7],\n",
      "        ...,\n",
      "        [   1,    1,    1,  ...,    1,    1,    1],\n",
      "        [   1,    1,    1,  ...,    1,    1,    1],\n",
      "        [   1,    1,    1,  ...,    1,    1,    1]]) tensor([[  2,   2,   2,  ...,   2,   2,   2],\n",
      "        [  4, 236,  26,  ...,  26,  26,   4],\n",
      "        [425,  37,  33,  ..., 698,  27,  17],\n",
      "        ...,\n",
      "        [  1,   1,   1,  ...,   1,   1,   1],\n",
      "        [  1,   1,   1,  ...,   1,   1,   1],\n",
      "        [  1,   1,   1,  ...,   1,   1,   1]])\n",
      "tensor([[    2,     2,     2,  ...,     2,     2,     2],\n",
      "        [   24,   324,    71,  ...,    71, 18063,    24],\n",
      "        [  132,     6,   131,  ...,   160, 18064,  8302],\n",
      "        ...,\n",
      "        [    1,     1,     1,  ...,     1,     1,     1],\n",
      "        [    1,     1,     1,  ...,     1,     1,     1],\n",
      "        [    1,     1,     1,  ...,     1,     1,     1]]) tensor([[    2,     2,     2,  ...,     2,     2,     2],\n",
      "        [  512,   171,    26,  ...,    26, 10338,    26],\n",
      "        [  513,   120,   256,  ...,   162, 10339,  2009],\n",
      "        ...,\n",
      "        [    1,     1,     1,  ...,     1,     1,     1],\n",
      "        [    1,     1,     1,  ...,     1,     1,     1],\n",
      "        [    1,     1,     1,  ...,     1,     1,     1]])\n",
      "tensor([[    2,     2,     2,  ...,     2,     2,     2],\n",
      "        [   24,    71,     4,  ...,    24,    24,  1107],\n",
      "        [  687, 17076,   515,  ...,   250,  3149,   116],\n",
      "        ...,\n",
      "        [    1,     1,     1,  ...,     1,     1,     1],\n",
      "        [    1,     1,     1,  ...,     1,     1,     1],\n",
      "        [    1,     1,     1,  ...,     1,     1,     1]]) tensor([[   2,    2,    2,  ...,    2,    2,    2],\n",
      "        [  26,  512,    4,  ...,   26,   26,   26],\n",
      "        [3087, 9940,  124,  ...,    5, 1463,  162],\n",
      "        ...,\n",
      "        [   1,    1,    1,  ...,    1,    1,    1],\n",
      "        [   1,    1,    1,  ...,    1,    1,    1],\n",
      "        [   1,    1,    1,  ...,    1,    1,    1]])\n",
      "tensor([[  2,   2,   2,  ...,   2,   2,   2],\n",
      "        [ 24,  24,   4,  ...,  71,  24,  24],\n",
      "        [184, 961, 107,  ..., 131,  31, 459],\n",
      "        ...,\n",
      "        [  1,   1,   1,  ...,   1,   1,   1],\n",
      "        [  1,   1,   1,  ...,   1,   1,   1],\n",
      "        [  1,   1,   1,  ...,   1,   1,   1]]) tensor([[   2,    2,    2,  ...,    2,    2,    2],\n",
      "        [  26, 2998,    4,  ...,  738,   26,   26],\n",
      "        [   5,   88,  102,  ...,   36,   33,  444],\n",
      "        ...,\n",
      "        [  14,    1,    1,  ...,    1,    1,    1],\n",
      "        [   3,    1,    1,  ...,    1,    1,    1],\n",
      "        [   1,    1,    1,  ...,    1,    1,    1]])\n",
      "tensor([[   2,    2,    2,  ...,    2,    2,    2],\n",
      "        [  71,   24,   24,  ...,   24,   18,  846],\n",
      "        [  72,   31, 5194,  ...,  250,  645,  872],\n",
      "        ...,\n",
      "        [   1,    1,    1,  ...,    1,    1,    1],\n",
      "        [   1,    1,    1,  ...,    1,    1,    1],\n",
      "        [   1,    1,    1,  ...,    1,    1,    1]]) tensor([[   2,    2,    2,  ...,    2,    2,    2],\n",
      "        [  26,   26, 2179,  ...,   26,   16,  171],\n",
      "        [  65,   33,   33,  ...,   27,  628,  818],\n",
      "        ...,\n",
      "        [   1,    1,    1,  ...,    1,    1,    1],\n",
      "        [   1,    1,    1,  ...,    1,    1,    1],\n",
      "        [   1,    1,    1,  ...,    1,    1,    1]])\n",
      "tensor([[   2,    2,    2,  ...,    2,    2,    2],\n",
      "        [  72,  127,    4,  ...,    4,   71,   24],\n",
      "        [  19, 7397,    7,  ...,  151,  822,   31],\n",
      "        ...,\n",
      "        [   1,    1,    1,  ...,    1,    1,    1],\n",
      "        [   1,    1,    1,  ...,    1,    1,    1],\n",
      "        [   1,    1,    1,  ...,    1,    1,    1]]) tensor([[  2,   2,   2,  ...,   2,   2,   2],\n",
      "        [337, 236,   4,  ...,   4,  26,  26],\n",
      "        [  6,   9,  17,  ..., 272, 781,  33],\n",
      "        ...,\n",
      "        [  1,   1,   1,  ...,   1,   1,   1],\n",
      "        [  1,   1,   1,  ...,   1,   1,   1],\n",
      "        [  1,   1,   1,  ...,   1,   1,   1]])\n",
      "tensor([[    2,     2,     2,  ...,     2,     2,     2],\n",
      "        [   24,    24,    71,  ...,    24,     4,   846],\n",
      "        [11805,   362,    72,  ...,    31,    78,  2989],\n",
      "        ...,\n",
      "        [    1,     1,     1,  ...,     1,     1,     1],\n",
      "        [    1,     1,     1,  ...,     1,     1,     1],\n",
      "        [    1,     1,     1,  ...,     1,     1,     1]]) tensor([[   2,    2,    2,  ...,    2,    2,    2],\n",
      "        [  26,   26,   26,  ...,   26,    4,  171],\n",
      "        [ 392,   92,   65,  ...,   33,  665, 2499],\n",
      "        ...,\n",
      "        [   1,    1,    1,  ...,    1,    1,    1],\n",
      "        [   1,    1,    1,  ...,    1,    1,    1],\n",
      "        [   1,    1,    1,  ...,    1,    1,    1]])\n",
      "tensor([[   2,    2,    2,  ...,    2,    2,    2],\n",
      "        [  24,  324,   24,  ...,   24,   71, 3225],\n",
      "        [7141,  669, 3048,  ..., 1105,   72,  411],\n",
      "        ...,\n",
      "        [   1,    1,    1,  ...,    1,    1,    1],\n",
      "        [   1,    1,    1,  ...,    1,    1,    1],\n",
      "        [   1,    1,    1,  ...,    1,    1,    1]]) tensor([[   2,    2,    2,  ...,    2,    2,    2],\n",
      "        [  26,   26,   26,  ...,   26,   26, 7664],\n",
      "        [ 609,  162,  469,  ...,  501,   65,   69],\n",
      "        ...,\n",
      "        [   1,    1,    1,  ...,    1,    1,    1],\n",
      "        [   1,    1,    1,  ...,    1,    1,    1],\n",
      "        [   1,    1,    1,  ...,    1,    1,    1]])\n",
      "tensor([[   2,    2,    2,  ...,    2,    2,    2],\n",
      "        [  24,    4,   24,  ...,    4,    4,   24],\n",
      "        [6404,  107, 3808,  ...,   11,   78,  517],\n",
      "        ...,\n",
      "        [   1,    1,    1,  ...,    1,  293,    1],\n",
      "        [   1,    1,    1,  ...,    1,   16,    1],\n",
      "        [   1,    1,    1,  ...,    1,    3,    1]]) tensor([[   2,    2,    2,  ...,    2,    2,    2],\n",
      "        [ 512,    4,   26,  ...,    4,    4,   26],\n",
      "        [ 225,  102,   33,  ...,    5,  665,  500],\n",
      "        ...,\n",
      "        [   1,    1,    1,  ...,    1, 3016,    1],\n",
      "        [   1,    1,    1,  ...,    1,   14,    1],\n",
      "        [   1,    1,    1,  ...,    1,    3,    1]])\n",
      "tensor([[    2,     2,     2,  ...,     2,     2,     2],\n",
      "        [    4,     4,    24,  ...,    71,   408,     4],\n",
      "        [ 1505,   210,    31,  ...,   799, 11694,     7],\n",
      "        ...,\n",
      "        [    1,     1,     1,  ...,     1,     1,     1],\n",
      "        [    1,     1,     1,  ...,     1,     1,     1],\n",
      "        [    1,     1,     1,  ...,     1,     1,     1]]) tensor([[  2,   2,   2,  ...,   2,   2,   2],\n",
      "        [  4,   4,  26,  ..., 512, 171,   4],\n",
      "        [801,  92,  33,  ..., 128,  86,  17],\n",
      "        ...,\n",
      "        [  1,   1,   1,  ...,   1,   1,   1],\n",
      "        [  1,   1,   1,  ...,   1,   1,   1],\n",
      "        [  1,   1,   1,  ...,   1,   1,   1]])\n",
      "tensor([[   2,    2,    2,  ...,    2,    2,    2],\n",
      "        [  24, 5254,   24,  ...,   71,   71,   24],\n",
      "        [ 250, 1477,   31,  ...,  865,   72,  184],\n",
      "        ...,\n",
      "        [   1,    1,    1,  ...,    1,    1,    1],\n",
      "        [   1,    1,    1,  ...,    1,    1,    1],\n",
      "        [   1,    1,    1,  ...,    1,    1,    1]]) tensor([[   2,    2,    2,  ...,    2,    2,    2],\n",
      "        [  26, 6374,   26,  ...,   26,   26,   26],\n",
      "        [  27,  920,   33,  ...,  105,  543,    5],\n",
      "        ...,\n",
      "        [   1,    1,    1,  ...,    1,    1,    1],\n",
      "        [   1,    1,    1,  ...,    1,    1,    1],\n",
      "        [   1,    1,    1,  ...,    1,    1,    1]])\n",
      "tensor([[  2,   2,   2,  ...,   2,   2,   2],\n",
      "        [  4,   4,  24,  ...,  24,   4,  24],\n",
      "        [239,   7, 184,  ...,  31, 400,  31],\n",
      "        ...,\n",
      "        [  1,   1,   1,  ...,   1,   1,   1],\n",
      "        [  1,   1,   1,  ...,   1,   1,   1],\n",
      "        [  1,   1,   1,  ...,   1,   1,   1]]) tensor([[  2,   2,   2,  ...,   2,   2,   2],\n",
      "        [  4,   4,  26,  ...,  26,   4,  26],\n",
      "        [124,  75,   5,  ...,  33, 393,  33],\n",
      "        ...,\n",
      "        [  1,   1,   1,  ...,   1,   1,   1],\n",
      "        [  1,   1,   1,  ...,   1,   1,   1],\n",
      "        [  1,   1,   1,  ...,   1,   1,   1]])\n",
      "tensor([[  2,   2,   2,  ...,   2,   2,   2],\n",
      "        [ 24,  24, 408,  ...,  18, 324,  24],\n",
      "        [ 31,  31, 107,  ..., 515,  31,  31],\n",
      "        ...,\n",
      "        [  1,   1,   1,  ...,   1,   1,   1],\n",
      "        [  1,   1,   1,  ...,   1,   1,   1],\n",
      "        [  1,   1,   1,  ...,   1,   1,   1]]) tensor([[   2,    2,    2,  ...,    2,    2,    2],\n",
      "        [  26,   26,  397,  ...,   16, 2998,   26],\n",
      "        [  33,   33,  102,  ...,  124,   43,   33],\n",
      "        ...,\n",
      "        [   1,    1,    1,  ...,    1,    1,    1],\n",
      "        [   1,    1,    1,  ...,    1,    1,    1],\n",
      "        [   1,    1,    1,  ...,    1,    1,    1]])\n"
     ]
    }
   ],
   "source": [
    "trainer(count_of_epoch=15, \n",
    "        batch_size=8, \n",
    "        dataloader=train_dataloader,\n",
    "        dataset = train_data ,\n",
    "        model=model, \n",
    "        loss_function=loss_function,\n",
    "        optimizer = optimizer,\n",
    "        lr=0.001,\n",
    "        callback=None)"
   ]
  },
  {
   "cell_type": "code",
   "execution_count": 23,
   "metadata": {},
   "outputs": [
    {
     "data": {
      "text/plain": [
       "(tensor([24, 25, 26, 27, 11, 22, 28, 29, 30, 16]),\n",
       " tensor([26, 27, 28, 29, 30, 22, 31, 32, 14]))"
      ]
     },
     "execution_count": 23,
     "metadata": {},
     "output_type": "execute_result"
    }
   ],
   "source": []
  },
  {
   "cell_type": "code",
   "execution_count": null,
   "metadata": {},
   "outputs": [],
   "source": []
  }
 ],
 "metadata": {
  "kernelspec": {
   "display_name": "base",
   "language": "python",
   "name": "python3"
  },
  "language_info": {
   "codemirror_mode": {
    "name": "ipython",
    "version": 3
   },
   "file_extension": ".py",
   "mimetype": "text/x-python",
   "name": "python",
   "nbconvert_exporter": "python",
   "pygments_lexer": "ipython3",
   "version": "3.10.12"
  },
  "orig_nbformat": 4
 },
 "nbformat": 4,
 "nbformat_minor": 2
}
